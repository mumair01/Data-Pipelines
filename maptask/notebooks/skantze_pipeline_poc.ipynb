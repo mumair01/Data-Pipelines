{
 "cells": [
  {
   "cell_type": "markdown",
   "metadata": {},
   "source": [
    "# About \n",
    "\n",
    "This notebooks is aimed at obtaining different audio features from audio files \n",
    "(including the GeMAPSv01b features set). It is intended to be a proof of concept \n",
    "for how these features may be extracted. Additionally, it investigates the \n",
    "results generated from the refactored data pipeline.\n",
    "\n",
    "\n",
    "NOTE: From the original paper, we need the following features for our data vectors for the LSTM model:\n",
    "1. Voice Activity\n",
    "2. Pitch \n",
    "3. Spectral Stability \n",
    "4. Parts of Speech \n",
    "\n",
    "Additional feature investigation uses the following features:\n",
    "1. Acoustic features:\n",
    "    - eGeMaps\n",
    "2. Linguistic Features:\n",
    "    - Parts of Speech \n",
    "    - Word tags. \n",
    "3. Phonetic Features \n",
    "    - Senone bottleneck features. \n",
    "4. Voice Activity "
   ]
  },
  {
   "cell_type": "markdown",
   "metadata": {},
   "source": [
    "## Setup "
   ]
  },
  {
   "cell_type": "code",
   "execution_count": 7,
   "metadata": {},
   "outputs": [],
   "source": [
    "import os\n",
    "import sys\n",
    "import time\n",
    "import pandas as pd\n",
    "from sklearn import preprocessing\n",
    "import numpy as np\n",
    "import scipy.io as io\n",
    "from glob import glob \n",
    "\n",
    "%matplotlib inline\n",
    "import matplotlib as mpl\n",
    "import matplotlib.pyplot as plt\n",
    "mpl.rc('axes', labelsize=14)\n",
    "mpl.rc('xtick', labelsize=12)\n",
    "mpl.rc('ytick', labelsize=12)\n"
   ]
  },
  {
   "cell_type": "code",
   "execution_count": 2,
   "metadata": {},
   "outputs": [],
   "source": [
    "# ---- Paths\n",
    "# Dir paths.\n",
    "PROJECT_ROOT_PATH = \".\"\n",
    "DATA_PATH = os.path.join(PROJECT_ROOT_PATH,\"data\")\n",
    "MAPTASK_PATH = os.path.join(DATA_PATH,\"maptaskv2-1\")\n",
    "STEREO_AUDIO_PATH = os.path.join(MAPTASK_PATH,\"Data/signals/dialogues\")\n",
    "MONO_AUDIO_PATH = os.path.join(MAPTASK_PATH,\"Data/signals/mono_dialogues\")\n",
    "# NOTE: The timed units are also used for Voice Activity annotations. \n",
    "TIMED_UNIT_PATHS = os.path.join(MAPTASK_PATH,\"Data/timed-units\") "
   ]
  },
  {
   "cell_type": "code",
   "execution_count": null,
   "metadata": {},
   "outputs": [],
   "source": []
  },
  {
   "cell_type": "markdown",
   "metadata": {},
   "source": [
    "We use very specific data files since the goal for this notebook is to investigate \n",
    "how different features of the pipeline are working and what values they produce. "
   ]
  },
  {
   "cell_type": "code",
   "execution_count": 4,
   "metadata": {},
   "outputs": [],
   "source": [
    "DATA_SPLIT = [\"q1ec1\"]"
   ]
  },
  {
   "cell_type": "code",
   "execution_count": null,
   "metadata": {},
   "outputs": [],
   "source": []
  }
 ],
 "metadata": {
  "interpreter": {
   "hash": "94eade7d74e86833f221ca63094e1c7cd59b525de511aaf5da72afef04f5d2b7"
  },
  "kernelspec": {
   "display_name": "Python 3.8.13 ('data')",
   "language": "python",
   "name": "python3"
  },
  "language_info": {
   "codemirror_mode": {
    "name": "ipython",
    "version": 3
   },
   "file_extension": ".py",
   "mimetype": "text/x-python",
   "name": "python",
   "nbconvert_exporter": "python",
   "pygments_lexer": "ipython3",
   "version": "3.8.13"
  },
  "orig_nbformat": 4
 },
 "nbformat": 4,
 "nbformat_minor": 2
}
